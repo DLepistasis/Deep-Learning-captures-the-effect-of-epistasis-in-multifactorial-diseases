{
 "cells": [
  {
   "cell_type": "code",
   "execution_count": null,
   "metadata": {},
   "outputs": [],
   "source": [
    "import sys\n",
    "import os\n",
    "import pandas as pd\n",
    "from tqdm import tqdm"
   ]
  },
  {
   "cell_type": "code",
   "execution_count": null,
   "metadata": {},
   "outputs": [],
   "source": [
    "main_path = os.path.abspath('')\n",
    "\n",
    "pheno = \"bmi\"\n",
    "\n",
    "# paths\n",
    "## input paths\n",
    "\n",
    "vcf_path = f\"./data/ext_prs.90k.{pheno}.vcf\"\n",
    "target_path = f\"./data/phenotype.{pheno}.unordered\"\n",
    "ordered_target_path = f\"./data/phenotype.{pheno}.ordered\"\n",
    "unordered_covariates_path = \"./data/cov.unordered\"\n",
    "ordered_covariates_path = f\"./data/cov.{pheno}.ordered\"\n",
    "snp_input_path = f\"./data/snps.{pheno}.tsv\"\n",
    "\n",
    "## output paths\n",
    "target_output_path = os.path.join(main_path, \"data\", f\"target_{pheno}.csv\")\n",
    "temporary_matrix_path = os.path.join(\n",
    "    main_path, \"data\", f\"temp_feature_matrix_{pheno}.csv\")\n",
    "transposed_feature_matrix_path = os.path.join(\n",
    "    main_path, \"data\", f\"feature_matrix_{pheno}.csv\")\n",
    "feature_cov_path = os.path.join(\n",
    "    main_path, \"data\", f\"feature_cov_matrix_{pheno}.csv\")\n",
    "feature_cov_hla_path = os.path.join(\n",
    "    main_path, \"data\", f\"feature_cov_hla_matrix_{pheno}.csv\")\n",
    "snps_output_path = os.path.join(\n",
    "    main_path, \"data\", f\"snps_found_{pheno}.csv\")\n",
    "\n",
    "\n",
    "# data info\n",
    "chunksize = 10_000\n",
    "\n",
    "patient_columns = []\n",
    "with open(vcf_path, \"r\") as f:\n",
    "    while True:\n",
    "        line = f.readline()\n",
    "        if not line.startswith(\"#\"):\n",
    "            break\n",
    "        if line.startswith(\"#CHROM\"):\n",
    "            vcf_columns = line.split(\"\\t\")\n",
    "            patient_columns = [string.split(\"_\")[0] for string in vcf_columns[9:]]\n",
    "\n",
    "print(patient_columns[:5], patient_columns[-5:])\n",
    "num_of_people = len(patient_columns)\n",
    "print(num_of_people)"
   ]
  },
  {
   "cell_type": "code",
   "execution_count": null,
   "metadata": {},
   "outputs": [],
   "source": [
    "# Choose GWAS filter threshhold\n",
    "filter_snps = pd.read_csv(snp_input_path, sep=\" \", comment=\"#\", header=None)\n",
    "filter_snps = list(filter_snps[3])\n",
    "filter_snps[:5]"
   ]
  },
  {
   "cell_type": "code",
   "execution_count": null,
   "metadata": {},
   "outputs": [],
   "source": [
    "def feature_prep_staight(vcf_path, temporary_matrix_path, num_of_people, chunksize):\n",
    "    \"\"\"\n",
    "    feature clean up. Processed by chuncks\n",
    "    first, it saves temprary matrix coding alleles (0, 1, 2) in a format: (snps, people)\n",
    "    \"\"\"\n",
    "\n",
    "    print(\"Processing VCF and filtering SNPs based GWAS statistics\")\n",
    "\n",
    "    # make sure the file doesn't exist, since we use append mode\n",
    "    if os.path.exists(temporary_matrix_path):\n",
    "        os.remove(temporary_matrix_path)\n",
    "    # make sure the file doesn't exist, since we use append mode\n",
    "    if os.path.exists(snps_output_path):\n",
    "        os.remove(snps_output_path)\n",
    "\n",
    "    snps_processed = 0\n",
    "    total_snps_found = 0\n",
    "\n",
    "    with pd.read_csv(vcf_path, comment='#', header=None, delim_whitespace=True,\n",
    "                     chunksize=chunksize) as reader:\n",
    "\n",
    "        for df in reader:\n",
    "\n",
    "            column_names = [\"CHROM\", \"POS\", \"ID\", \"REF\",\n",
    "                            \"ALT\", \"QUAL\", \"FILTER\", \"INFO\", \"FORMAT\"]\n",
    "            for i in range(1, num_of_people + 1):\n",
    "                # notation for a  patient \"i\"  is \"P{i}\"\n",
    "                column_names.append(\"P\" + str(i))\n",
    "            df.columns = column_names\n",
    "\n",
    "            df = df.drop([\"REF\", \"ALT\", \"QUAL\", \"FILTER\",\n",
    "                         \"INFO\", \"FORMAT\"], axis=1)\n",
    "            \n",
    "            # dont filter, filter was applied earlier by position\n",
    "            # df = df[df['ID'].isin(filter_snps)]\n",
    "            if not df.empty:\n",
    "                total_snps_found += df.shape[0]\n",
    "                \n",
    "                snp_IDs = df[[\"CHROM\", \"ID\", \"POS\"]]  # save selected SNPs\n",
    "                snp_IDs.to_csv(snps_output_path, mode='a',\n",
    "                               index=False, header=False)\n",
    "                \n",
    "                df = df.drop([\"ID\", \"CHROM\", \"POS\"], axis=1)\n",
    "                df = df.replace({\"0/0\": 0, \"0/1\": 1, \"1/0\": 1, \"1/1\": 2})\n",
    "\n",
    "                df = df.astype('int8')\n",
    "\n",
    "                df.to_csv(temporary_matrix_path, mode='a',\n",
    "                          index=False, header=False)\n",
    "\n",
    "            snps_processed += chunksize\n",
    "            if snps_processed % 50_000 == 0:\n",
    "                print(f\"{snps_processed} SNPs processed so far\")\n",
    "        print(f\"There are {total_snps_found} SNPs from GWAS filter\")\n",
    "\n",
    "        return total_snps_found\n",
    "\n",
    "\n",
    "def feature_transpose(temporary_matrix_path, transposed_feature_matrix_path, num_of_selected_SNPs, chunksize):\n",
    "    \"\"\"\n",
    "    Transposes the matrix, so the format is (people, snps)\n",
    "    \"\"\"\n",
    "    if os.path.exists(transposed_feature_matrix_path):  # make sure the file doesn't exist, since we use append mode\n",
    "        os.remove(transposed_feature_matrix_path)\n",
    "\n",
    "    num_rows = 0\n",
    "    num_cols = 0\n",
    "\n",
    "    print(\"Transposing feature matrix\")\n",
    "    pbar = tqdm(total=int(num_of_selected_SNPs/chunksize),\n",
    "                position=0, leave=True)\n",
    "\n",
    "    with pd.read_csv(temporary_matrix_path, header=None, dtype='int8',\n",
    "                     chunksize=chunksize) as reader:\n",
    "        with open(transposed_feature_matrix_path, 'w') as trans_matrix:\n",
    "\n",
    "            for chunk_start, df in enumerate(reader):\n",
    "                chunk = df.T\n",
    "\n",
    "                # empty tailing line\n",
    "                empty_line = 2 * (num_of_selected_SNPs -\n",
    "                                  (chunksize + chunksize*chunk_start))\n",
    "\n",
    "                for i, line in chunk.iterrows():\n",
    "                    new_pos = 2 * (num_of_selected_SNPs *\n",
    "                                   i + chunksize*chunk_start)\n",
    "                    trans_matrix.seek(new_pos)\n",
    "                    trans_matrix.write(\n",
    "                        f\"{','.join(map(str, line))}{',' * (empty_line)}\"'\\n')\n",
    "\n",
    "                pbar.update(1)\n",
    "\n",
    "                num_rows = chunk.shape[0]\n",
    "                num_cols += chunk.shape[1]\n",
    "\n",
    "    return (num_rows, num_cols)"
   ]
  },
  {
   "cell_type": "code",
   "execution_count": null,
   "metadata": {},
   "outputs": [],
   "source": [
    "num_of_selected_SNPs = feature_prep_staight(vcf_path, temporary_matrix_path,\n",
    "                                            num_of_people, chunksize)\n",
    "\n",
    "feature_matrix_shape = feature_transpose(temporary_matrix_path, transposed_feature_matrix_path,\n",
    "                                         num_of_selected_SNPs, chunksize)"
   ]
  },
  {
   "cell_type": "code",
   "execution_count": null,
   "metadata": {},
   "outputs": [],
   "source": [
    "feature_matrix_shape"
   ]
  },
  {
   "cell_type": "markdown",
   "metadata": {},
   "source": [
    "## Ordering"
   ]
  },
  {
   "cell_type": "code",
   "execution_count": null,
   "metadata": {},
   "outputs": [],
   "source": [
    "# Target preparation\n",
    "target = pd.read_csv(target_path, sep=\"\\s+\")\n",
    "target = target[target[\"IID\"].isin(patient_columns)]\n",
    "target = target.set_index(\"IID\")\n",
    "target = target.reindex(patient_columns)\n",
    "target = target.reset_index()\n",
    "target.to_csv(ordered_target_path, sep=\"\\t\", index=None)\n",
    "\n",
    "# Saving to simple csv\n",
    "target = pd.read_csv(ordered_target_path, sep=\"\\t\")\n",
    "target = target[\"bmi_gt25\"]\n",
    "target = target.apply(int)\n",
    "print(target.value_counts())\n",
    "target.to_csv(target_output_path, index=False, header=False)"
   ]
  },
  {
   "cell_type": "code",
   "execution_count": null,
   "metadata": {},
   "outputs": [],
   "source": [
    "# Covariates preparation\n",
    "cov = pd.read_csv(unordered_covariates_path, sep=\"\\s+\", header=None)\n",
    "cov = cov[cov[0].isin(patient_columns)]\n",
    "cov = cov.set_index(0)\n",
    "cov = cov.reindex(patient_columns)\n",
    "cov = cov.reset_index()\n",
    "# CHANGEME: leaving only gender\n",
    "cov = cov[[1, 2]]\n",
    "cov.to_csv(ordered_covariates_path, sep=\",\", index=None, header=None)"
   ]
  },
  {
   "cell_type": "markdown",
   "metadata": {},
   "source": [
    "## HLA"
   ]
  },
  {
   "cell_type": "code",
   "execution_count": null,
   "metadata": {},
   "outputs": [],
   "source": [
    "hla_path = os.path.join(main_path, \"data\", \"haplo-parsed-target-2columns.csv\")\n",
    "hla_output_path = os.path.join(main_path, \"data\", \"hla_diabet.csv\")"
   ]
  },
  {
   "cell_type": "code",
   "execution_count": null,
   "metadata": {},
   "outputs": [],
   "source": [
    "df = pd.read_csv(hla_path)"
   ]
  },
  {
   "cell_type": "code",
   "execution_count": null,
   "metadata": {},
   "outputs": [],
   "source": [
    "df = df.drop([\"HLA-DQA1\", \"HLA-DQB1\"], axis=1)\n",
    "df = df.rename(columns={'Unnamed: 0': 'tubeid'})"
   ]
  },
  {
   "cell_type": "code",
   "execution_count": null,
   "metadata": {},
   "outputs": [],
   "source": [
    "df = df[df[\"tubeid\"].isin(patient_columns)]\n",
    "df = df.set_index(\"tubeid\")\n",
    "df = df.reindex(patient_columns)\n",
    "df = df.reset_index()"
   ]
  },
  {
   "cell_type": "code",
   "execution_count": null,
   "metadata": {},
   "outputs": [],
   "source": [
    "genes = [\"HLA-DQA1\", \"HLA-DQB1\"]"
   ]
  },
  {
   "cell_type": "code",
   "execution_count": null,
   "metadata": {},
   "outputs": [],
   "source": [
    "freq_threshold = 0.00\n",
    "\n",
    "dfs = []\n",
    "for gene in genes:\n",
    "    a1 = df[gene + \"_1\"]\n",
    "    a2 = df[gene + \"_2\"]\n",
    "    a1_a2 = pd.concat([a1, a2])\n",
    "    a1_a2_vc = a1_a2.value_counts()\n",
    "    print(gene, a1_a2.shape[0], a1_a2_vc)\n",
    "    good_hps = list(a1_a2_vc[a1_a2_vc > a1_a2.shape[0] * freq_threshold].index)\n",
    "    # print(good_hps)\n",
    "    \n",
    "    new_onehot_df = {}\n",
    "    for k, row in df.iterrows():\n",
    "        row_a1 = row[gene + \"_1\"]\n",
    "        row_a2 = row[gene + \"_2\"]\n",
    "        \n",
    "        patient_counts = {}\n",
    "        for good_hp in good_hps:\n",
    "            count = 0\n",
    "            if good_hp == row_a1:\n",
    "                count += 1\n",
    "            if good_hp == row_a2:\n",
    "                count += 1\n",
    "            patient_counts[good_hp] = count\n",
    "        patient_counts = list(patient_counts.values())\n",
    "        new_onehot_df[row[\"tubeid\"]] = patient_counts\n",
    "    new_onehot_df = pd.DataFrame(new_onehot_df)\n",
    "    new_onehot_df = new_onehot_df.T\n",
    "    dfs.append(new_onehot_df)"
   ]
  },
  {
   "cell_type": "code",
   "execution_count": null,
   "metadata": {},
   "outputs": [],
   "source": [
    "total_hla_df = pd.concat(dfs, axis=1)"
   ]
  },
  {
   "cell_type": "code",
   "execution_count": null,
   "metadata": {},
   "outputs": [],
   "source": [
    "total_hla_df"
   ]
  },
  {
   "cell_type": "code",
   "execution_count": null,
   "metadata": {},
   "outputs": [],
   "source": [
    "total_hla_df = total_hla_df[total_hla_df.index.isin(patient_columns)]\n",
    "total_hla_df = total_hla_df.reindex(patient_columns)"
   ]
  },
  {
   "cell_type": "code",
   "execution_count": null,
   "metadata": {},
   "outputs": [],
   "source": [
    "total_hla_df"
   ]
  },
  {
   "cell_type": "code",
   "execution_count": null,
   "metadata": {},
   "outputs": [],
   "source": [
    "hla_path = \"./data/hla.diab.csv\"\n",
    "total_hla_df.to_csv(hla_path, index=False, header=False)"
   ]
  },
  {
   "cell_type": "markdown",
   "metadata": {},
   "source": [
    "## Объединение"
   ]
  },
  {
   "cell_type": "code",
   "execution_count": null,
   "metadata": {},
   "outputs": [],
   "source": [
    "## Добавим ковариаты в конец матрицы фичей\n",
    "!paste {transposed_feature_matrix_path} {ordered_covariates_path} | sed 's/\\t/,/' > {feature_cov_path}"
   ]
  },
  {
   "cell_type": "code",
   "execution_count": null,
   "metadata": {},
   "outputs": [],
   "source": [
    "## Добавим HLA в конец матрицы фичей\n",
    "!paste {feature_cov_path} {hla_path} | sed 's/\\t/,/' > {feature_cov_hla_path}"
   ]
  },
  {
   "cell_type": "code",
   "execution_count": null,
   "metadata": {},
   "outputs": [],
   "source": []
  }
 ],
 "metadata": {
  "kernelspec": {
   "display_name": "Python 3 (ipykernel)",
   "language": "python",
   "name": "python3"
  },
  "language_info": {
   "codemirror_mode": {
    "name": "ipython",
    "version": 3
   },
   "file_extension": ".py",
   "mimetype": "text/x-python",
   "name": "python",
   "nbconvert_exporter": "python",
   "pygments_lexer": "ipython3",
   "version": "3.9.7"
  }
 },
 "nbformat": 4,
 "nbformat_minor": 4
}
