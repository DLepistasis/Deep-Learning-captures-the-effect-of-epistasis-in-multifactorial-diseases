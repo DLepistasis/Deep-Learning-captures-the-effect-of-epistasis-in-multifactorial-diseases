{
 "cells": [
  {
   "cell_type": "code",
   "execution_count": null,
   "id": "1cdc9dba",
   "metadata": {},
   "outputs": [],
   "source": [
    "import numpy as np\n",
    "import pandas as pd"
   ]
  },
  {
   "cell_type": "code",
   "execution_count": null,
   "id": "477f2225",
   "metadata": {},
   "outputs": [],
   "source": [
    "num_ppl = 20000\n",
    "num_snps = 100\n",
    "\n",
    "num_causal_snps = 25   # linear snps\n",
    "num_epi = 1   # 2-loci epistasis"
   ]
  },
  {
   "cell_type": "code",
   "execution_count": null,
   "id": "d3c1b3a4",
   "metadata": {},
   "outputs": [],
   "source": [
    "def generate_effects(num_snps, num_causal_snps):\n",
    "    causal_snps_idx = sorted(np.random.choice(num_snps, num_causal_snps, replace = False))\n",
    "    effect = np.random.normal(0, 0.5, size = num_causal_snps + 1)\n",
    "    \n",
    "    epi_snps_idx = sorted(np.random.choice(num_snps, 3, replace = False)) # 2-loci\n",
    "\n",
    "    return (causal_snps_idx, effect, epi_snps_idx)"
   ]
  },
  {
   "cell_type": "code",
   "execution_count": null,
   "id": "15e9440c",
   "metadata": {},
   "outputs": [],
   "source": [
    "def pheno_generation(gen, causal_snps_idx, effect, epi_snps_idx, epi_prob_matrix, alpha):\n",
    "    # Linear Effect\n",
    "    score = effect[0] + np.dot(gen[:,causal_snps_idx] , effect[1:])\n",
    "    lin_prob = np.exp(score) / (1 + np.exp(score))\n",
    "    \n",
    "    # Epistasis effect\n",
    "    epi_prob = np.zeros(num_ppl)\n",
    "    for i, r in enumerate(gen[:, epi_snps_idx]):\n",
    "        a = r[0]\n",
    "        b = r[1]\n",
    "        c = r[2]\n",
    "        epi_prob[i] = epi_prob_matrix[a][b][c]\n",
    "        \n",
    "    # mix effects w/ alpha\n",
    "    prob = alpha*lin_prob + (1-alpha)*epi_prob\n",
    "    \n",
    "    Y = np.random.binomial(1, prob, size=prob.shape)\n",
    "    \n",
    "    return (Y, prob)"
   ]
  },
  {
   "cell_type": "code",
   "execution_count": null,
   "id": "38e58d2c",
   "metadata": {},
   "outputs": [],
   "source": [
    "def create_dataset(gen, Y, name, alpha):\n",
    "    \n",
    "    print(f\"y_class = 0 {sum(Y == 0)} || y_class = 1 {sum(Y == 1)}\")\n",
    "    \n",
    "    gen_df = pd.DataFrame(gen)\n",
    "    y_class_df = pd.Series(Y)\n",
    "    \n",
    "    gen_df.to_csv(f\"./datasets/feature_{name}.csv\", header=False, index=False)\n",
    "    y_class_df.to_csv(f\"./datasets/target_{name}_alpha{alpha}.csv\", header=False, index=False)"
   ]
  },
  {
   "cell_type": "code",
   "execution_count": null,
   "id": "c2249a5c",
   "metadata": {},
   "outputs": [],
   "source": [
    "epi_probs = np.array([[[0.28186155422521764,  0.5207791187331811,  0.2773927825295285],\n",
    "                                [0.49178390877316336,  0.06925274393903989,  0.5308461659563246],\n",
    "                                [0.5093544578890467,  0.06692282387853395,  0.26835675071191784]],\n",
    "\n",
    "                                [[0.5183650906430136,  0.017803417313929152,  0.5171418772166806],\n",
    "                                [0.07420167489622208,  0.9680921450761688,  0.021446583929458814],\n",
    "                                [0.06595582496233192,  0.9238186716301662,  0.5075679589275518]],\n",
    "\n",
    "                                [[0.29670500689115026,  0.4785174292128735,  0.37799105858697174],\n",
    "                                [0.49125471903631546,  0.10062947629458073,  0.28829934726164014],\n",
    "                                [0.2760927418974399,  0.4920959768446959,  0.5991589071692529]]])"
   ]
  },
  {
   "cell_type": "code",
   "execution_count": null,
   "id": "e6e71ac9",
   "metadata": {},
   "outputs": [],
   "source": [
    "feature_name = 'gam_100snps'\n",
    "\n",
    "# Create GEN\n",
    "np.random.seed(42)\n",
    "gen = np.random.choice([0, 1, 2], p=[0.25, 0.5, 0.25],\n",
    "                       size=(num_ppl, num_snps))\n",
    "\n",
    "# generate lin effect\n",
    "causal_snps_idx, effect, epi_snps_idx = generate_effects(num_snps, num_causal_snps)\n",
    "\n",
    "alphas = [round(0.1*i, 2) for i in range(11)]\n",
    "\n",
    "\n",
    "for alpha in alphas:\n",
    "    Y, prob = pheno_generation(gen, causal_snps_idx, effect, epi_snps_idx, epi_probs, alpha)    \n",
    "    create_dataset(gen, Y, feature_name, alpha)"
   ]
  }
 ],
 "metadata": {
  "kernelspec": {
   "display_name": "Python 3 (ipykernel)",
   "language": "python",
   "name": "python3"
  },
  "language_info": {
   "codemirror_mode": {
    "name": "ipython",
    "version": 3
   },
   "file_extension": ".py",
   "mimetype": "text/x-python",
   "name": "python",
   "nbconvert_exporter": "python",
   "pygments_lexer": "ipython3",
   "version": "3.9.7"
  }
 },
 "nbformat": 4,
 "nbformat_minor": 5
}
